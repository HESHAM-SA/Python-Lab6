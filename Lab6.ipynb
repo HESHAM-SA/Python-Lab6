{
 "cells": [
  {
   "cell_type": "code",
   "execution_count": 9,
   "id": "18bdcf85",
   "metadata": {},
   "outputs": [
    {
     "name": "stdout",
     "output_type": "stream",
     "text": [
      "139\n",
      "9\n"
     ]
    }
   ],
   "source": [
    "# Q1: Write a Python program to sum all the items in the list.\n",
    "my_list = [5, 4, 17, 19, 30, 2, 7, 10, 45]\n",
    "sum_numbers = 0 \n",
    "for i in range(len(my_list)):\n",
    "    sum_numbers += my_list[i]    \n",
    "print(sum_numbers)\n",
    "print(len(my_list))\n"
   ]
  },
  {
   "cell_type": "code",
   "execution_count": 10,
   "id": "fd493410",
   "metadata": {},
   "outputs": [
    {
     "name": "stdout",
     "output_type": "stream",
     "text": [
      "45\n"
     ]
    }
   ],
   "source": [
    "# Q2: Write a Python program to get the largest number from the list.\n",
    "my_list = [5, 4, 17, 19, 30, 2, 7, 10, 45]\n",
    "max_number = 0 \n",
    "for i in range(len(my_list)):\n",
    "    if max_number < my_list[i]:\n",
    "        max_number = my_list[i]\n",
    "print(max_number) \n",
    "    "
   ]
  },
  {
   "cell_type": "code",
   "execution_count": 26,
   "id": "96bde879",
   "metadata": {},
   "outputs": [
    {
     "name": "stdout",
     "output_type": "stream",
     "text": [
      "[4, 30, 2, 10]\n"
     ]
    }
   ],
   "source": [
    "# Q3: Use list comprehension, create a new list from the above list containing only even numbers.\n",
    "my_list = [5, 4, 17, 19, 30, 2, 7, 10, 45]\n",
    "even_numbers = []\n",
    "for i in range(len(my_list)):\n",
    "    if my_list[i] % 2 == 0:\n",
    "        even_numbers.append(my_list[i])\n",
    "print(lst)"
   ]
  },
  {
   "cell_type": "code",
   "execution_count": 31,
   "id": "f6a0a1e0",
   "metadata": {},
   "outputs": [
    {
     "name": "stdout",
     "output_type": "stream",
     "text": [
      "[5, 4, 17, 19, 30]\n"
     ]
    }
   ],
   "source": [
    "# Q4: Use list slicing to get a new list from the previous list starting from the start to the 5th element in the list.\n",
    "my_list = [5, 4, 17, 19, 30, 2, 7, 10, 45]\n",
    "new_list =[] \n",
    "new_list = my_list[0:5]\n",
    "print (new_list)"
   ]
  },
  {
   "cell_type": "code",
   "execution_count": null,
   "id": "af02fd5d",
   "metadata": {},
   "outputs": [],
   "source": []
  },
  {
   "cell_type": "code",
   "execution_count": null,
   "id": "fdad8ac9",
   "metadata": {},
   "outputs": [],
   "source": []
  },
  {
   "cell_type": "code",
   "execution_count": null,
   "id": "124bf7fb",
   "metadata": {},
   "outputs": [],
   "source": []
  },
  {
   "cell_type": "code",
   "execution_count": null,
   "id": "2f9b3ec8",
   "metadata": {},
   "outputs": [],
   "source": []
  },
  {
   "cell_type": "code",
   "execution_count": null,
   "id": "f248de1f",
   "metadata": {},
   "outputs": [],
   "source": []
  }
 ],
 "metadata": {
  "kernelspec": {
   "display_name": "Python 3 (ipykernel)",
   "language": "python",
   "name": "python3"
  },
  "language_info": {
   "codemirror_mode": {
    "name": "ipython",
    "version": 3
   },
   "file_extension": ".py",
   "mimetype": "text/x-python",
   "name": "python",
   "nbconvert_exporter": "python",
   "pygments_lexer": "ipython3",
   "version": "3.10.9"
  }
 },
 "nbformat": 4,
 "nbformat_minor": 5
}
